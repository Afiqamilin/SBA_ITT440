{
 "cells": [
  {
   "cell_type": "code",
   "execution_count": null,
   "id": "2d30c87e-05bd-4a31-b9bf-5e369bdced19",
   "metadata": {},
   "outputs": [
    {
     "name": "stdout",
     "output_type": "stream",
     "text": [
      "Server is running and waiting for connections...\n"
     ]
    }
   ],
   "source": [
    "import socket\n",
    "\n",
    "def is_prime(n):\n",
    "    if n < 2:\n",
    "        return False\n",
    "    for i in range(2, int(n**0.5) + 1):\n",
    "        if n % i == 0:\n",
    "            return False\n",
    "    return True\n",
    "\n",
    "# Create a UDP socket\n",
    "server_socket = socket.socket(socket.AF_INET, socket.SOCK_DGRAM)\n",
    "\n",
    "# Bind the socket to a specific IP address and port\n",
    "server_address = ('', 8889)\n",
    "server_socket.bind(server_address)\n",
    "\n",
    "print('Server is running and waiting for connections...')\n",
    "\n",
    "while True:\n",
    "    # Receive the number from the client\n",
    "    data, client_address = server_socket.recvfrom(1024)\n",
    "    number = int(data.decode())\n",
    "\n",
    "    # Check if the number is prime\n",
    "    result = is_prime(number)\n",
    "\n",
    "    # Send the result back to the client\n",
    "    server_socket.sendto(str(result).encode(), client_address)\n",
    "\n"
   ]
  },
  {
   "cell_type": "code",
   "execution_count": null,
   "id": "a1f7c758-7216-4dc3-90a6-f623e7e407de",
   "metadata": {},
   "outputs": [],
   "source": []
  }
 ],
 "metadata": {
  "kernelspec": {
   "display_name": "Python 3 (ipykernel)",
   "language": "python",
   "name": "python3"
  },
  "language_info": {
   "codemirror_mode": {
    "name": "ipython",
    "version": 3
   },
   "file_extension": ".py",
   "mimetype": "text/x-python",
   "name": "python",
   "nbconvert_exporter": "python",
   "pygments_lexer": "ipython3",
   "version": "3.9.17"
  }
 },
 "nbformat": 4,
 "nbformat_minor": 5
}
