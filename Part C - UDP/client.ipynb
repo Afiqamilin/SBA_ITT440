{
 "cells": [
  {
   "cell_type": "markdown",
   "id": "3979af3b-9749-43a4-b8e5-9ad6eb7b132a",
   "metadata": {},
   "source": [
    "## Client"
   ]
  },
  {
   "cell_type": "code",
   "execution_count": 2,
   "id": "a54059e4-e9a6-4ae5-a3f0-eb00d3e49e94",
   "metadata": {},
   "outputs": [
    {
     "name": "stdin",
     "output_type": "stream",
     "text": [
      "Enter a number:  12\n"
     ]
    },
    {
     "name": "stdout",
     "output_type": "stream",
     "text": [
      "12 is not a prime number.\n"
     ]
    }
   ],
   "source": [
    "import socket\n",
    "\n",
    "# Create a UDP socket\n",
    "client_socket = socket.socket(socket.AF_INET, socket.SOCK_DGRAM)\n",
    "\n",
    "# Server IP address and port\n",
    "server_address = ('localhost', 8889)\n",
    "\n",
    "# Input the number\n",
    "number = int(input('Enter a number: '))\n",
    "\n",
    "# Send the number to the server\n",
    "client_socket.sendto(str(number).encode(), server_address)\n",
    "\n",
    "# Receive the result from the server\n",
    "result, _ = client_socket.recvfrom(1024)\n",
    "\n",
    "# Display the result\n",
    "if result.decode() == 'True':\n",
    "    print(f'{number} is a prime number.')\n",
    "else:\n",
    "    print(f'{number} is not a prime number.')\n",
    "\n",
    "# Close the socket\n",
    "client_socket.close()\n",
    "\n"
   ]
  },
  {
   "cell_type": "code",
   "execution_count": null,
   "id": "21272610-d053-4793-b112-0c0301b7eb28",
   "metadata": {},
   "outputs": [],
   "source": []
  }
 ],
 "metadata": {
  "kernelspec": {
   "display_name": "Python 3 (ipykernel)",
   "language": "python",
   "name": "python3"
  },
  "language_info": {
   "codemirror_mode": {
    "name": "ipython",
    "version": 3
   },
   "file_extension": ".py",
   "mimetype": "text/x-python",
   "name": "python",
   "nbconvert_exporter": "python",
   "pygments_lexer": "ipython3",
   "version": "3.9.17"
  }
 },
 "nbformat": 4,
 "nbformat_minor": 5
}
