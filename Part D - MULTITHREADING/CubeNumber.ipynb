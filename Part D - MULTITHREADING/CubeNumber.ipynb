{
 "cells": [
  {
   "cell_type": "markdown",
   "id": "adf343bb-c15e-4243-87b8-8ba7200b5c7a",
   "metadata": {},
   "source": [
    "## Cube Number\n"
   ]
  },
  {
   "cell_type": "code",
   "execution_count": 1,
   "id": "579ecd0f-6479-4f42-975d-4c474504e829",
   "metadata": {},
   "outputs": [
    {
     "name": "stdout",
     "output_type": "stream",
     "text": [
      "1\n",
      "8\n",
      "27\n",
      "64\n",
      "125\n",
      "216\n",
      "343\n",
      "512\n",
      "729\n",
      "1000\n",
      "1331\n",
      "1728\n",
      "2197\n",
      "2744\n",
      "3375\n",
      "4096\n",
      "4913\n",
      "5832\n",
      "6859\n",
      "8000\n",
      "9261\n"
     ]
    }
   ],
   "source": [
    "def cube_numbers(n):\n",
    "    i = 1\n",
    "    while i**3 <= n:\n",
    "        print(i**3)\n",
    "        i += 1\n",
    "\n",
    "cube_numbers(10000)\n"
   ]
  },
  {
   "cell_type": "code",
   "execution_count": null,
   "id": "88ada94a-a4a8-4cde-ada6-09718f03a944",
   "metadata": {},
   "outputs": [],
   "source": []
  }
 ],
 "metadata": {
  "kernelspec": {
   "display_name": "Python 3 (ipykernel)",
   "language": "python",
   "name": "python3"
  },
  "language_info": {
   "codemirror_mode": {
    "name": "ipython",
    "version": 3
   },
   "file_extension": ".py",
   "mimetype": "text/x-python",
   "name": "python",
   "nbconvert_exporter": "python",
   "pygments_lexer": "ipython3",
   "version": "3.9.17"
  }
 },
 "nbformat": 4,
 "nbformat_minor": 5
}
